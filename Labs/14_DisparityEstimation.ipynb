{
 "cells": [
  {
   "cell_type": "markdown",
   "id": "6e754001-df1b-4a29-9f8e-61eea9e3c526",
   "metadata": {},
   "source": [
    "# Introduction to Stereo Disparity Estimation\n",
    "## Steve Elston     \n",
    "## Introduction  \n",
    "\n",
    "**Disparity** is the inverse of distance. Given two images with different optical centers, a disparity map can be created for the common areas of these images. For the exercises in this notebook, we will only consider disparity estimated from stereo image pairs. A stereo image pair comprises two images of the same scene acquired from two different camera poses. These same principles can be used to construct 3-D depth maps from multiple camera poses.        "
   ]
  },
  {
   "cell_type": "markdown",
   "id": "b9664f98-21ff-4d8b-a6a0-863971e44c79",
   "metadata": {},
   "source": [
    "**Exercise 14-1:** In one or a few sentences answer the following questions concerning disparity.  \n",
    "1. Explain how disparity relates to the position of an object on the images of a stereo pair.\n",
    "2. Explain why accuracy of disparity estimation increases with baseline.     "
   ]
  },
  {
   "cell_type": "markdown",
   "id": "c8174178-7b09-41fd-829d-93a0b61b3f3d",
   "metadata": {},
   "source": [
    "**Answers:**      \n",
    "1.         \n",
    "2.      "
   ]
  },
  {
   "cell_type": "markdown",
   "id": "3294df84-1eb6-4b2d-9154-918eac3d9349",
   "metadata": {},
   "source": [
    "**Exercise 14-2:** The concept of an **epiploar plane** is fundamental in epipolar geometry used for stereo disparity estimation. Answer the following questions in one or a few sentences. \n",
    "1. When a stereo pair of image planes are rectified, where are the corresponding epipoles? \n",
    "2. Explain the nature of epipolar lines and why they are important in reducing the computation and storage required to search disparity space.  "
   ]
  },
  {
   "cell_type": "markdown",
   "id": "a9bfe84a-8eb8-488a-8a01-992c0333d2a7",
   "metadata": {},
   "source": [
    "**Answers:**    \n",
    "1.        \n",
    "2.      "
   ]
  },
  {
   "cell_type": "markdown",
   "id": "31609685-3989-463e-b9af-4e8a99c9cb72",
   "metadata": {},
   "source": [
    "**Exercise 14-3:** Consider alternatives for parameterizing disparity search volume. Answer the following questions in one or a few sentences each.    \n",
    "1. Explain how a cost volume is computed over a range of disparity using a feature map.\n",
    "2. Explain how slant tiles are parameterized and used for disparity estimation.     \n",
    "3. Explain why local search is important in practical disparity estimation algorithms.\n",
    "4. Explain how using an interlacing a cost volume significantly reduces the dimensionality and computational cost.  "
   ]
  },
  {
   "cell_type": "markdown",
   "id": "18f731a2-77ca-4983-91ae-60241151dd3b",
   "metadata": {},
   "source": [
    "**Answers:**     \n",
    "1.       \n",
    "2.        \n",
    "3.          \n",
    "4.          "
   ]
  },
  {
   "cell_type": "markdown",
   "id": "5ae4dcfb-8475-4f19-9b89-761f7ea5f704",
   "metadata": {},
   "source": [
    "**Exercise 14-4:** Consider how scale can be addressed in disparity estimation and answer the following questions in one or a few sentences.  \n",
    "1. State a key reason scale is important in disparity estimation.\n",
    "2. State an example where significantly different scales might occur in stereo disparity estimation.      \n",
    "3. Explain a commonly used method for creating a suitable feature map for disparity estimation at multiple scales.\n",
    "4. How is scale addressed in the HITNet algorithm propagation step?  "
   ]
  },
  {
   "cell_type": "markdown",
   "id": "128131a6-6c9b-4753-9cc6-a587e1891268",
   "metadata": {},
   "source": [
    "**Answers:**     \n",
    "1.                \n",
    "2.         \n",
    "3.          \n",
    "4.              "
   ]
  },
  {
   "cell_type": "markdown",
   "id": "aa80ef6b-9d99-47cf-867f-e306a9e05a58",
   "metadata": {},
   "source": [
    "#### Copyright 2025, Stephen F. Elston. All rights reserved. "
   ]
  }
 ],
 "metadata": {
  "kernelspec": {
   "display_name": "Python 3 (ipykernel)",
   "language": "python",
   "name": "python3"
  },
  "language_info": {
   "codemirror_mode": {
    "name": "ipython",
    "version": 3
   },
   "file_extension": ".py",
   "mimetype": "text/x-python",
   "name": "python",
   "nbconvert_exporter": "python",
   "pygments_lexer": "ipython3",
   "version": "3.12.7"
  }
 },
 "nbformat": 4,
 "nbformat_minor": 5
}
